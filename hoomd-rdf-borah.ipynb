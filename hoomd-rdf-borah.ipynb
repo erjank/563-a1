{
 "cells": [
  {
   "cell_type": "code",
   "execution_count": 4,
   "id": "abe6ddfb-9932-457e-89e9-78bb7da7dcb3",
   "metadata": {},
   "outputs": [],
   "source": [
    "import hoomd\n",
    "import gsd.hoomd\n",
    "import numpy\n",
    "import freud\n"
   ]
  },
  {
   "cell_type": "code",
   "execution_count": 5,
   "id": "6e842e1d-9923-4a56-813d-ad01ff0b424d",
   "metadata": {},
   "outputs": [],
   "source": [
    "device = hoomd.device.GPU()\n",
    "seed = numpy.random.randint(1,1e4)\n",
    "simulation = hoomd.Simulation(device = device, seed = seed)"
   ]
  },
  {
   "cell_type": "code",
   "execution_count": 6,
   "id": "acf8f594-e286-4e6e-b4c2-131cc67475cf",
   "metadata": {},
   "outputs": [],
   "source": [
    "kT = 1.0\n",
    "epsilon = 1.0\n",
    "sigma = 1.0\n",
    "final_density = 1.0\n",
    "starting_density = 0.5\n",
    "a = 1/(starting_density**(1/3.0))\n",
    "num_replicas = 10\n",
    "N_particles = num_replicas**3\n",
    "grid_particles = freud.data.UnitCell([a,a,a,0,0,0],[[0,0,0]]).generate_system(num_replicas)\n",
    "box_length = grid_particles[0].Lx"
   ]
  },
  {
   "cell_type": "code",
   "execution_count": 7,
   "id": "fdd57869-fffb-46f5-8813-13077a52ca03",
   "metadata": {},
   "outputs": [],
   "source": [
    "frame = gsd.hoomd.Frame()\n",
    "frame.particles.N = N_particles\n",
    "frame.particles.position = grid_particles[1]\n",
    "frame.configuration.box = [box_length,box_length,box_length,0,0,0]\n",
    "\n",
    "#Types of particles define different interactions. In an atomistic simulation these might be C, O, and H.\n",
    "#in a coarse-grained simulation we can give them a simple name like A\n",
    "frame.particles.typeid = [0]*N_particles\n",
    "frame.particles.types = ['A']\n",
    "\n",
    "#Finally, save our initial state:\n",
    "with gsd.hoomd.open(name='initial_state.gsd', mode='w') as f:\n",
    "    f.append(frame)"
   ]
  },
  {
   "cell_type": "code",
   "execution_count": 8,
   "id": "52468a56-d3d6-4023-ae2b-413896279a88",
   "metadata": {},
   "outputs": [
    {
     "name": "stderr",
     "output_type": "stream",
     "text": [
      "/cm/shared/apps/hoomd/3.11.0/lib/python3.11/site-packages/hoomd/md/methods/methods.py:699: FutureWarning: NVE is deprecated and wil be removed in hoomd 4.0. In version 4.0, use the ConstantVolume method without a thermostat.\n",
      "  warnings.warn(\n"
     ]
    }
   ],
   "source": [
    "simulation.create_state_from_gsd(filename='initial_state.gsd')\n",
    "integrator = hoomd.md.Integrator(dt = 0.005)\n",
    "nve = hoomd.md.methods.NVE(filter = hoomd.filter.All())\n",
    "integrator.methods.append(nve)\n",
    "cell = hoomd.md.nlist.Cell(buffer=0.4)\n",
    "\n",
    "#Define the force for different particles\n",
    "lj = hoomd.md.pair.LJ(nlist=cell)\n",
    "\n",
    "lj.params[('A', 'A')] = {\"epsilon\":epsilon, \"sigma\":sigma}\n",
    "\n",
    "lj.r_cut[('A', 'A')] = 2.5*sigma\n",
    "\n",
    "\n",
    "integrator.forces.append(lj)\n",
    "simulation.operations.integrator = integrator\n",
    "     \n",
    "simulation.state.thermalize_particle_momenta(filter=hoomd.filter.All(), kT=1.0)\n",
    "thermodynamic_properties = hoomd.md.compute.ThermodynamicQuantities(\n",
    "    filter=hoomd.filter.All()\n",
    ")\n",
    "\n",
    "simulation.operations.computes.append(thermodynamic_properties)\n",
    "logger = hoomd.logging.Logger(categories=['scalar', 'sequence'])\n",
    "logger.add(simulation)\n",
    "logger.add(thermodynamic_properties)\n",
    "tps_tracking = hoomd.logging.Logger(categories=['scalar', 'string'])\n",
    "tps_tracking.add(simulation, quantities=['timestep', 'tps'])\n",
    "table = hoomd.write.Table(trigger=hoomd.trigger.Periodic(period=int(1e4)), logger=tps_tracking)\n",
    "simulation.operations.writers.append(table)"
   ]
  },
  {
   "cell_type": "code",
   "execution_count": 9,
   "id": "dab6bafd-b063-4d98-999b-250fd1aab5d6",
   "metadata": {},
   "outputs": [
    {
     "name": "stdout",
     "output_type": "stream",
     "text": [
      "Simulation.timestep  Simulation.tps \n",
      "       10000           8749.91468   \n",
      "       20000          12398.51310   \n",
      "       30000          14395.10704   \n",
      "       40000          15658.17046   \n",
      "       50000          16534.90290   \n",
      "       60000          17169.19840   \n",
      "       70000          17645.43512   \n",
      "       80000          18026.45686   \n",
      "       90000          18336.77491   \n",
      "      100000          18582.14235   \n"
     ]
    }
   ],
   "source": [
    "simulation.run(1e5)"
   ]
  },
  {
   "cell_type": "code",
   "execution_count": null,
   "id": "4f53ee9d-52df-4dbe-846b-9c359cdbcbcf",
   "metadata": {},
   "outputs": [],
   "source": []
  }
 ],
 "metadata": {
  "kernelspec": {
   "display_name": "hoomd3-env",
   "language": "python",
   "name": "hoomd3-env"
  },
  "language_info": {
   "codemirror_mode": {
    "name": "ipython",
    "version": 3
   },
   "file_extension": ".py",
   "mimetype": "text/x-python",
   "name": "python",
   "nbconvert_exporter": "python",
   "pygments_lexer": "ipython3",
   "version": "3.11.11"
  }
 },
 "nbformat": 4,
 "nbformat_minor": 5
}
