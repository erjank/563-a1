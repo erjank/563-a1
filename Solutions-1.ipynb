{
  "nbformat": 4,
  "nbformat_minor": 0,
  "metadata": {
    "colab": {
      "provenance": []
    },
    "kernelspec": {
      "name": "python3",
      "display_name": "Python 3"
    },
    "language_info": {
      "name": "python"
    }
  },
  "cells": [
    {
      "cell_type": "code",
      "execution_count": 1,
      "metadata": {
        "colab": {
          "base_uri": "https://localhost:8080/"
        },
        "id": "8nVu_YiEtY_P",
        "outputId": "3f4e095d-7627-4f5e-db41-f09b8d2f4941"
      },
      "outputs": [
        {
          "output_type": "stream",
          "name": "stdout",
          "text": [
            "Requirement already satisfied: unyt in /usr/local/lib/python3.11/dist-packages (3.0.3)\n",
            "Requirement already satisfied: numpy<3.0,>=1.19.3 in /usr/local/lib/python3.11/dist-packages (from unyt) (1.26.4)\n",
            "Requirement already satisfied: sympy>=1.7 in /usr/local/lib/python3.11/dist-packages (from unyt) (1.13.1)\n",
            "Requirement already satisfied: packaging>=20.9 in /usr/local/lib/python3.11/dist-packages (from unyt) (24.2)\n",
            "Requirement already satisfied: mpmath<1.4,>=1.1.0 in /usr/local/lib/python3.11/dist-packages (from sympy>=1.7->unyt) (1.3.0)\n"
          ]
        }
      ],
      "source": [
        "!pip install unyt\n",
        "import unyt #Not really needed for this assignment, but handy for unit conversions!\n",
        "import math"
      ]
    },
    {
      "cell_type": "code",
      "source": [
        "# 1.1 two systems, what's the total number of ways of arranging them\n",
        "# and the entropies of the two subsystems and the overall system?\n",
        "O1 = 10**20\n",
        "O2 = 10**22\n",
        "print(\"total states=\",O1*O2) #this multiplication is the conceptual core of this problem\n",
        "\n",
        "S1 = math.log(O1)\n",
        "S2 = math.log(O2)\n",
        "\n",
        "print(\"S1: \" ,S1*unyt.kb ) #with units\n",
        "print(\"S1: \" ,S1, \" kB\" )\n",
        "print(\"S2: \" ,S2*unyt.kb ) #with units\n",
        "print(\"S2: \" ,S2, \" kB\" )\n",
        "\n",
        "print(\"S: \" ,math.log(O2*O1)*unyt.kb ) #with units\n",
        "print(\"S: \" ,math.log(O2*O1), \" kB\" )\n",
        "\n",
        "#check:\n",
        "print(\"S: \" , S1+S2, \" kB\" )\n",
        "\n"
      ],
      "metadata": {
        "colab": {
          "base_uri": "https://localhost:8080/"
        },
        "id": "aHS8wx6FuBI0",
        "outputId": "64e53478-0aab-4b97-c666-76e777106eb7"
      },
      "execution_count": 2,
      "outputs": [
        {
          "output_type": "stream",
          "name": "stdout",
          "text": [
            "total states= 1000000000000000000000000000000000000000000\n",
            "S1:  6.358122691080236e-22 kg*m**2/(K*s**2)\n",
            "S1:  46.051701859880914  kB\n",
            "S2:  6.993934960188259e-22 kg*m**2/(K*s**2)\n",
            "S2:  50.65687204586901  kB\n",
            "S:  1.3352057651268493e-21 kg*m**2/(K*s**2)\n",
            "S:  96.70857390574992  kB\n",
            "S:  96.70857390574992  kB\n"
          ]
        }
      ]
    },
    {
      "cell_type": "code",
      "source": [
        "# 1.2: 10m^3 air at 1atm, 300K, expands 0.001% at constant T. How many more states?\n",
        "# The hard part here is looking down to the next problem in the book (or researching)\n",
        "# to find that the number of states Q at constant N,V,T is proportional to V^N\n",
        "# so we're looking for Q2/Q1 = (V1*1.00001)^N/(V1^N) = 1.00001**N\n",
        "# so we need N:\n",
        "# P*V = N*R*T # Ideal gas law\n",
        "# 1atm * 10m^3 = N * 8.206e-5 m^3 *atm/(K*mol) * 300K\n",
        "N = 10/8.206e-5 /300 #moles\n",
        "print(N, \" moles\")\n",
        "N = N* 6.02e23\n",
        "print(N, \" molecules\")\n",
        "\n",
        "# so our answer is: 1.00001**N, but that's a huge number that we can't print...\n",
        "x = math.log(10)/math.log(1.00001) #x= how many times we need to exponentiate to get 10\n",
        "print(x, \" 1.00001 to this power= 10\")\n",
        "print(1.00001**x, \"pretty close\")\n",
        "\n",
        "power = N/x\n",
        "\n",
        "#final answer\n",
        "print(power, \"Wow. 10 to this number is how many more configurations there are\")\n",
        "print(\"Expanding the volume of a system increases the entropy.\")\n",
        "\n",
        "# we can get kindof an integer estimate:\n",
        "#print(10**1062003293889814600000) #This uses a lot of ram, so you can see a lot\n",
        "# of digits if you uncomment it and let it run. But who cares?!\n"
      ],
      "metadata": {
        "id": "EhDR7myTuMxn",
        "colab": {
          "base_uri": "https://localhost:8080/"
        },
        "outputId": "0b8976af-241d-4ad0-ad0e-e1816d070a0d"
      },
      "execution_count": 8,
      "outputs": [
        {
          "output_type": "stream",
          "name": "stdout",
          "text": [
            "406.2068405231944  moles\n",
            "2.44536517994963e+26  molecules\n",
            "230259.6605885238  1.00001 to this power= 10\n",
            "10.000000000000002 pretty close\n",
            "1.0620032938898146e+21 Wow. 10 to this number is how many more configurations there are\n",
            "Expanding the volume of a system increases the entropy.\n"
          ]
        }
      ]
    },
    {
      "cell_type": "code",
      "source": [
        "# 1.3: 150kJ added to 2.0 mol at constant V and T=300K\n",
        "# this problem is a little underspecified: Adding this energy will increase\n",
        "# the temperature and pressure of the molecules, but we don't have enough\n",
        "# information to calculate that... BUT the spirit of this question is asking us\n",
        "# how the number of configurations change with energy added to a system.\n",
        "# equations 2.1.6, 2.1.7, and 2.1.8 give us this info:\n",
        "# 1 / (kB * T) = d log(Omega)/dE\n",
        "# if we assume T is constant here, we can solve this integral:\n",
        "# dE/(kB * T) = d log(Omega)\n",
        "# (150 kJ)/(1.38e-23J/K * 300K) = log(Omega2) - log(Omega1) = log(Omega2/Omega1)\n",
        "f = 150000/(1.38e-23 *300)\n",
        "print(f, \"Wow. e to this number is how many more configurations there are\")\n",
        "print(\"Adding energy to a system increases the entropy\")\n",
        "\n",
        "x = math.log(10)\n",
        "power = f/x\n",
        "print(power,\" OK, 10 to THIS number is how many more configurations there are\")\n"
      ],
      "metadata": {
        "id": "IIfWQ4OZxFao",
        "outputId": "29fb8373-7ec5-41fe-94e9-042d0e2e7944",
        "colab": {
          "base_uri": "https://localhost:8080/"
        }
      },
      "execution_count": 9,
      "outputs": [
        {
          "output_type": "stream",
          "name": "stdout",
          "text": [
            "3.6231884057971014e+25 Wow. e to this number is how many more configurations there are\n",
            "Adding energy to a system increases the entropy\n",
            "1.5735307315335209e+25  OK, 10 to THIS number is how many more configurations there are\n"
          ]
        }
      ]
    },
    {
      "cell_type": "code",
      "source": [
        "# 1.4 Total energy E=5e, and we have five molecules that each can have energy 0e, 1e, 2e...\n",
        "# Make a table with the configurations consistent with the total energy:\n",
        "# what configurations are most probable?\n",
        "# For example, we could partition 4e into particle 2 and 1e in particle 3,\n",
        "# giving us the microstate \"041000\", which is distinct from \"14000\" and \"41000\"\n",
        "\n",
        "states = [\"50000\",\"41000\",\"32000\",\"31100\",\"22100\",\"21110\",\"11111\"]\n",
        "\n",
        "# all of these have 5 factorial ways of initially assigning the energies\n",
        "# but then we need to divide out the identical permutations\n",
        "# we can do this by taking the product of factorials of identical digits\n",
        "# for example, in 311100 there are 1 3's and 3 1's and 2 0's, so 5!/(1!*3!*2!)\n",
        "\n",
        "def nways(s):\n",
        "  denominator =1\n",
        "  for digit in [0,1,2,3,4,5]:\n",
        "    denominator *= math.factorial(s.count(str(digit)) ) #0! equals 1\n",
        "  return math.factorial(5)//denominator\n",
        "\n",
        "total = 0\n",
        "for s in states:\n",
        "  print(s+\": {:d}\".format(nways(s)))\n",
        "  total+=nways(s)\n",
        "\n",
        "print(\"States\", states[3], states[4], \"is most likely with p={:.3f}\".format( 30/total))\n",
        "\n"
      ],
      "metadata": {
        "id": "_ucmfKmhyFU2",
        "outputId": "7d08f354-742e-4557-b6d1-59b26a888459",
        "colab": {
          "base_uri": "https://localhost:8080/"
        }
      },
      "execution_count": 12,
      "outputs": [
        {
          "output_type": "stream",
          "name": "stdout",
          "text": [
            "50000: 5\n",
            "41000: 20\n",
            "32000: 20\n",
            "31100: 30\n",
            "22100: 30\n",
            "21110: 20\n",
            "11111: 1\n",
            "States 31100 22100 is most likely with p=0.238\n"
          ]
        }
      ]
    },
    {
      "cell_type": "code",
      "source": [],
      "metadata": {
        "id": "zwMMbrf4rY88"
      },
      "execution_count": null,
      "outputs": []
    }
  ]
}