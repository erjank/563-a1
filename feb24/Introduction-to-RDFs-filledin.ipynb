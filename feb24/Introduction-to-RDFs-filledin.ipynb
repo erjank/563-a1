{
 "cells": [
  {
   "cell_type": "code",
   "execution_count": null,
   "id": "99cc452c-7d9d-4936-a515-aa769145b828",
   "metadata": {},
   "outputs": [],
   "source": [
    "# Only if you are on Google Colab, run this and the next two cells\n",
    "# This will crash your kernel- this is OK and expected! Run this just once,\n",
    "# then the next two cells \n",
    "!pip install -q condacolab\n",
    "import condacolab\n",
    "condacolab.install()"
   ]
  },
  {
   "cell_type": "code",
   "execution_count": null,
   "id": "0bf02f6c-bd6f-494b-9a06-098912ddfa12",
   "metadata": {},
   "outputs": [],
   "source": [
    "#Google Colab status check\n",
    "import condacolab\n",
    "condacolab.check()"
   ]
  },
  {
   "cell_type": "code",
   "execution_count": null,
   "id": "a90d9255-92f8-41ee-8802-2188173c2911",
   "metadata": {},
   "outputs": [],
   "source": [
    "#Google Colab software stack install\n",
    "!mamba install -c conda-forge \"hoomd=4.7.0\" vim openssh mbuild gsd ipython ipykernel mdanalysis foyer freud ipywidgets scipy numpy physical_validation matplotlib jupyter pandas flowermd nglview mdanalysis"
   ]
  },
  {
   "cell_type": "code",
   "execution_count": null,
   "id": "c3da37ec",
   "metadata": {},
   "outputs": [],
   "source": [
    "import matplotlib.pyplot as plt\n",
    "import numpy as np\n",
    "import freud\n",
    "import gsd.hoomd"
   ]
  },
  {
   "cell_type": "code",
   "execution_count": null,
   "id": "daccb085-2eeb-488f-9185-5a7704af209e",
   "metadata": {},
   "outputs": [],
   "source": [
    "def basic_inline_visual(filename, frame):\n",
    "    with gsd.hoomd.open(filename) as traj:\n",
    "        frame = traj[frame]\n",
    "\n",
    "        figure = plt.figure(figsize=(10,10))\n",
    "        ax = figure.add_subplot(projection='3d')\n",
    "        pos = frame.particles.position\n",
    "        \n",
    "        ax.scatter(pos[:,0],pos[:,1], pos[:,2])"
   ]
  },
  {
   "cell_type": "markdown",
   "id": "5d82eb03",
   "metadata": {},
   "source": [
    "# What is a Radial Distribution Function?"
   ]
  },
  {
   "cell_type": "markdown",
   "id": "49f6af20",
   "metadata": {},
   "source": [
    "One of the main tools of simulations is the Radial Distribution Function, or RDF. In physical experiments, it's often difficult to obtain an RDF, so we use reciprocal space techniques like XRD or do laborious microscopy. In simulations we know the exact position of every particle, and so building an RDF is relatively easy.\n",
    "\n",
    "Here we will walk through 3 exercises.\n",
    "\n",
    "1. Calculating a small RDF by hand\n",
    "2. Using a histogram to calculate a larger RDF\n",
    "3. Using the tool Freud to examine your LJ simulations and compare how changing temperature changes RDF\n",
    "\n",
    "You may find the Freud documentation useful while doing excersizes in this notebook:\n",
    "https://freud.readthedocs.io/en/latest/modules/density.html"
   ]
  },
  {
   "cell_type": "markdown",
   "id": "6743ae99",
   "metadata": {},
   "source": [
    "$$g(r) = V \\frac{N_{\\text{reference particles}}}{N_{\\text{particles}}} \\langle\\delta(r)\\rangle$$\n"
   ]
  },
  {
   "cell_type": "markdown",
   "id": "c3f7d255",
   "metadata": {},
   "source": [
    "The Radial Distribution Function is usually denoted g(r). It calculates the average density $\\delta$ of particles at a distance *r* away from an origin particle, normalized by the volume. If the system is totally homogenous and disordered, g(r) = 1. Typically, this function will be averaged over every particle in a system, and over time. From the RDF, we can extract the distance between particles and understand how well ordered the system is.\n",
    "\n",
    "The following code will plot an ideal square 2D crystal with some amount of noise, or disorder, in the position of the particles. 0 noise indicates a perfect crystal.\n",
    "\n",
    "Change the noise level and observe how the RDF changes. While the physics are very different, larger noise is qualitatively similar to melting the crystal."
   ]
  },
  {
   "cell_type": "code",
   "execution_count": null,
   "id": "9f608f08",
   "metadata": {},
   "outputs": [],
   "source": [
    "#noise 0.0-0.2 is a good range to explore.\n",
    "noise = 0.0"
   ]
  },
  {
   "cell_type": "code",
   "execution_count": null,
   "id": "752d1fa6",
   "metadata": {},
   "outputs": [],
   "source": [
    "crystal_with_disorder = freud.data.UnitCell([1,1,1,0,0,0],[[0,0,0]]).generate_system(\n",
    "    num_replicas = 20, sigma_noise = noise)"
   ]
  },
  {
   "cell_type": "code",
   "execution_count": null,
   "id": "d3646a39",
   "metadata": {
    "scrolled": true
   },
   "outputs": [],
   "source": [
    "rdf = freud.density.RDF(bins = 100, r_max = 3.0)\n",
    "rdf.compute(crystal_with_disorder,neighbors={\"r_max\":3.0,\"exclude_ii\":True})\n",
    "rdf.plot()"
   ]
  },
  {
   "cell_type": "markdown",
   "id": "f7219f0c",
   "metadata": {},
   "source": [
    "What does the RDF look like in a perfectly ordered system? What happens to the RDF as disorder increases?"
   ]
  },
  {
   "cell_type": "markdown",
   "id": "a8cab065",
   "metadata": {},
   "source": [
    "# Manual RDF"
   ]
  },
  {
   "cell_type": "markdown",
   "id": "55b8be4d",
   "metadata": {},
   "source": [
    "Now we are going to do a quick, rough calculation of the RDF for one particle to get an idea of how the algorithm works. This code will generate a small 2D system of particles."
   ]
  },
  {
   "cell_type": "code",
   "execution_count": null,
   "id": "c4bfc8dc",
   "metadata": {},
   "outputs": [],
   "source": [
    "(box, positions) = freud.data.UnitCell([1,1,1,0,0,0],[[0,0,0]]).generate_system(\n",
    "    num_replicas = [10,10,1], sigma_noise = 0.1)"
   ]
  },
  {
   "cell_type": "code",
   "execution_count": null,
   "id": "82e3588c",
   "metadata": {},
   "outputs": [],
   "source": [
    "center = positions[0]"
   ]
  },
  {
   "cell_type": "code",
   "execution_count": null,
   "id": "34568dbe",
   "metadata": {},
   "outputs": [],
   "source": [
    "shell_radii = np.arange(0.0,4.0,0.5)"
   ]
  },
  {
   "cell_type": "code",
   "execution_count": null,
   "id": "a12005d9",
   "metadata": {},
   "outputs": [],
   "source": [
    "fig = plt.figure(figsize=(10,10))\n",
    "markersize = 150\n",
    "\n",
    "plt.scatter(positions[:,0],positions[:,1],s = markersize, c = 'grey',edgecolor = 'k')\n",
    "plt.scatter(center[0],center[1], s = markersize, c = 'red',edgecolor = 'red')\n",
    "\n",
    "for r in shell_radii:\n",
    "    circle = plt.Circle((0, 0), r, facecolor = [0,0,0,0], edgecolor = 'k', linewidth = 2)\n",
    "    plt.gca().add_patch(circle)\n",
    "    \n",
    "plt.xlim(-5,5);\n",
    "plt.ylim(-5,5);\n"
   ]
  },
  {
   "cell_type": "markdown",
   "id": "9c3378ce",
   "metadata": {},
   "source": [
    "Take the origin to be at [0,0]. The circular shells have radius 1, 2, 3, and 4. Working with your neighbor, count the number particles within the bounds of each shell. You may have to make some judgement calls if a particle sits close to a line.\n",
    "\n",
    "The system has an overall number density of 50 particles in a 10x10 area.\n",
    "\n",
    "*Commented out are example numbers if you need them, for an ideal gas system*"
   ]
  },
  {
   "cell_type": "code",
   "execution_count": null,
   "id": "9cbdd560",
   "metadata": {},
   "outputs": [],
   "source": [
    "# particle_counts = ?\n",
    "particle_counts = [0, 5, 6, 13, 20, 25,30]"
   ]
  },
  {
   "cell_type": "markdown",
   "id": "4edbf47f",
   "metadata": {},
   "source": [
    "Now change the particle counts to a density by calculating the *area* of each shell"
   ]
  },
  {
   "cell_type": "code",
   "execution_count": null,
   "id": "9721464f",
   "metadata": {},
   "outputs": [],
   "source": [
    "areas = [np.pi*((shell_radii[n+1])**2-shell_radii[n]**2) for n in range(7)]\n",
    "particle_density = np.asarray(particle_counts)/np.asarray(areas)"
   ]
  },
  {
   "cell_type": "code",
   "execution_count": null,
   "id": "f4a5d5d4",
   "metadata": {},
   "outputs": [],
   "source": [
    "V = box.volume\n",
    "N = len(positions)\n",
    "gofr = V * 1/N * particle_density"
   ]
  },
  {
   "cell_type": "code",
   "execution_count": null,
   "id": "f577cff3",
   "metadata": {},
   "outputs": [],
   "source": [
    "plt.figure(figsize=(5,5))\n",
    "plt.plot(shell_radii[1:],gofr);\n",
    "\n",
    "plt.title('Manual count of a single-particle RDF')\n",
    "plt.xlabel('Distance')\n",
    "plt.ylabel('Particle density')\n",
    "plt.xlim(0,4);"
   ]
  },
  {
   "cell_type": "markdown",
   "id": "372fef42",
   "metadata": {},
   "source": [
    "This system isn't large enough for this RDF to look much like the example. Notably, the width of our \"bins\" is extremely large, so a lot of the shape is washed out. Hopefully you now have an idea of how the algorithm works."
   ]
  },
  {
   "cell_type": "markdown",
   "id": "0bdc8c3d",
   "metadata": {},
   "source": [
    "# Calculating RDF Using a Histogram"
   ]
  },
  {
   "cell_type": "markdown",
   "id": "d8dd8555",
   "metadata": {},
   "source": [
    "Now we'll use a histogram to calculate a much more realistic RDF. "
   ]
  },
  {
   "cell_type": "code",
   "execution_count": null,
   "id": "adcab8dd",
   "metadata": {},
   "outputs": [],
   "source": [
    "(box, positions) = freud.data.UnitCell([1,1,1,0,0,0],[[0,0,0]]).generate_system(\n",
    "    num_replicas = [20,20,1], sigma_noise = 0.05)"
   ]
  },
  {
   "cell_type": "code",
   "execution_count": null,
   "id": "5d8c0250",
   "metadata": {},
   "outputs": [],
   "source": [
    "center = positions[0]"
   ]
  },
  {
   "cell_type": "code",
   "execution_count": null,
   "id": "1b222a2f",
   "metadata": {},
   "outputs": [],
   "source": [
    "fig = plt.figure(figsize=(10,10))\n",
    "markersize = 150\n",
    "\n",
    "plt.scatter(positions[:,0],positions[:,1],s = markersize, c = 'grey',edgecolor = 'k')\n",
    "plt.scatter(center[0],center[1], s = markersize, c = 'red',edgecolor = 'red')\n",
    "\n",
    "for r in shell_radii:\n",
    "    circle = plt.Circle((0, 0), r, facecolor = [0,0,0,0], edgecolor = 'k', linewidth = 2)\n",
    "    plt.gca().add_patch(circle)\n",
    "    \n",
    "plt.xlim(-10,10);\n",
    "plt.ylim(-10,10);\n"
   ]
  },
  {
   "cell_type": "markdown",
   "id": "c2d028db",
   "metadata": {},
   "source": [
    "For now, only calculate one particle (no averaging).\n",
    "\n",
    "How are you going to calculate the density?"
   ]
  },
  {
   "cell_type": "code",
   "execution_count": null,
   "id": "ca782ca0",
   "metadata": {},
   "outputs": [],
   "source": [
    "distances = []\n",
    "\n",
    "for p in positions[1:]:\n",
    "    d = np.linalg.norm(p-center)\n",
    "    distances.append(d)\n",
    "\n",
    "bins = 50\n",
    "histogram, bin_edges = np.histogram(distances, range = (0.0,5.0), bins = bins)"
   ]
  },
  {
   "cell_type": "code",
   "execution_count": null,
   "id": "8bf4f188",
   "metadata": {},
   "outputs": [],
   "source": [
    "plt.figure(figsize=(5,5))\n",
    "plt.plot(bin_edges[:-1],histogram)\n",
    "\n",
    "plt.xlabel('Distance')\n",
    "plt.ylabel('Particle Count')\n",
    "plt.xlim(0,5);"
   ]
  },
  {
   "cell_type": "markdown",
   "id": "ea778703",
   "metadata": {},
   "source": [
    "Change bin_edges to a list of areas to get density, using the same method that you did during the manual count."
   ]
  },
  {
   "cell_type": "code",
   "execution_count": null,
   "id": "dcbd1cb5",
   "metadata": {},
   "outputs": [],
   "source": [
    "areas = [np.pi*((bin_edges[n+1])**2-bin_edges[n]**2) for n in range(bins)]\n",
    "delta = histogram/areas"
   ]
  },
  {
   "cell_type": "code",
   "execution_count": null,
   "id": "033cc9e5",
   "metadata": {},
   "outputs": [],
   "source": [
    "V = box.volume\n",
    "N = len(positions)\n",
    "gofr = V * 1/N * delta"
   ]
  },
  {
   "cell_type": "code",
   "execution_count": null,
   "id": "44dbae53",
   "metadata": {},
   "outputs": [],
   "source": [
    "plt.figure(figsize=(5,5))\n",
    "plt.plot(bin_edges[:-1],gofr);\n",
    "\n",
    "plt.title('Programmatic count of a single-particle RDF')\n",
    "plt.xlabel('Distance')\n",
    "plt.ylabel('g(r)')\n",
    "plt.xlim(0,5);\n"
   ]
  },
  {
   "cell_type": "markdown",
   "id": "b03b3047",
   "metadata": {},
   "source": [
    "Again, this system is still not large enough to really see the expected form of an RDF, but hopefully you get the idea."
   ]
  },
  {
   "cell_type": "markdown",
   "id": "4eb34fa2",
   "metadata": {},
   "source": [
    "# Questions\n",
    "\n",
    "1. Where does it make sense to stop this histogram? At what point do you need to consider boundary conditions?\n",
    "\n",
    "2. How does changing the number of bins affect the calculated RDF?\n",
    "\n",
    "3. A simple loop algorithm to calculate neigbhors quickly becomes inefficient for systems of thousands of particles. Can you think of a way to increase speed?"
   ]
  },
  {
   "cell_type": "markdown",
   "id": "83385568",
   "metadata": {},
   "source": [
    "# Large LJ System"
   ]
  },
  {
   "cell_type": "markdown",
   "id": "50e3b59f",
   "metadata": {},
   "source": [
    "Now we can load the Lennard-Jones fluids generated in previous simulations for analysis. We're going to use the Freud utility to handle many of the difficult calculations for us, including accounting for periodic boundary conditions and making the math efficient when dealing with thousands of particles instead of dozens.\n",
    "\n",
    "Play here with n_bins and r_max. How does changing n_bins effect your result? Is there an upper limit beyond which the width of your bins is too small?"
   ]
  },
  {
   "cell_type": "code",
   "execution_count": null,
   "id": "291cb01c",
   "metadata": {},
   "outputs": [],
   "source": [
    "with gsd.hoomd.open('example_results/trajectory.gsd','r') as traj:\n",
    "    final_frame = traj[-1]\n",
    "    \n",
    "box = final_frame.configuration.box\n",
    "positions = final_frame.particles.position"
   ]
  },
  {
   "cell_type": "code",
   "execution_count": null,
   "id": "691d0b7c",
   "metadata": {},
   "outputs": [],
   "source": [
    "n_bins = 100\n",
    "r_max = 4.0\n",
    "\n",
    "rdf = freud.density.RDF(bins = n_bins, r_max = r_max)\n",
    "rdf.compute((box, positions))\n",
    "rdf.plot()"
   ]
  },
  {
   "cell_type": "markdown",
   "id": "47385595",
   "metadata": {},
   "source": [
    "In the last section, you and your neighbors simulated fluids at different conditions, but the same *reduced unit* conditions. Compare your results; how does the RDF change? \n",
    "\n",
    "How does the fluid RDF compare to the idealized crystal in the example?"
   ]
  },
  {
   "cell_type": "markdown",
   "id": "8076f635",
   "metadata": {},
   "source": [
    "# Averaging for better statistics"
   ]
  },
  {
   "cell_type": "markdown",
   "id": "5386afd5",
   "metadata": {},
   "source": [
    "Finally, to be very correct we should also *time*-average the RDF. Keeping in mind that \"traj\" is a list of all frames in the simulation, how do you calculate the average RDF?\n",
    "\n",
    "*Hint: you will need to loop over every frame in the trajectory, saving the RDF at each loop to average later.*\n",
    "\n",
    "*Additional hint: freud.density.RDF.compute() has a \"reset\" property, which you can turn to False.*\n",
    "\n",
    "The function rdf.plot() which we used as a shortcut above is essentially running the following function:\n",
    "\n",
    "plt.plot(rdf.bin_centers, rdf.rdf)"
   ]
  },
  {
   "cell_type": "code",
   "execution_count": null,
   "id": "5173d893",
   "metadata": {},
   "outputs": [],
   "source": [
    "n_bins = 100\n",
    "r_max = 4.0\n",
    "rdf = freud.density.RDF(bins = n_bins, r_max = r_max)\n",
    "\n",
    "with gsd.hoomd.open('example_results/trajectory.gsd','r') as trajectory:\n",
    "    #loop over all frames:\n",
    "    for frame in trajectory:\n",
    "        #accumulate an average RDF\n",
    "        box = frame.configuration.box\n",
    "        positions = frame.particles.position\n",
    "        rdf.compute((box, positions), reset = False)\n",
    "        \n"
   ]
  },
  {
   "cell_type": "code",
   "execution_count": null,
   "id": "51a60eab-4d12-4e68-a32b-00304ed2825a",
   "metadata": {},
   "outputs": [],
   "source": [
    "plt.figure(figsize=(5,5))\n",
    "\n",
    "plt.plot(rdf.bin_centers, rdf.rdf)\n",
    "\n",
    "plt.title('Time-Averaged RDF')\n",
    "plt.xlabel('Distance')\n",
    "plt.ylabel('g(r)')"
   ]
  },
  {
   "cell_type": "markdown",
   "id": "8c64304f",
   "metadata": {},
   "source": [
    "How does performing a time average change the RDF?"
   ]
  },
  {
   "cell_type": "code",
   "execution_count": null,
   "id": "1059fc38",
   "metadata": {},
   "outputs": [],
   "source": []
  }
 ],
 "metadata": {
  "kernelspec": {
   "display_name": "Python 3 (ipykernel)",
   "language": "python",
   "name": "python3"
  },
  "language_info": {
   "codemirror_mode": {
    "name": "ipython",
    "version": 3
   },
   "file_extension": ".py",
   "mimetype": "text/x-python",
   "name": "python",
   "nbconvert_exporter": "python",
   "pygments_lexer": "ipython3",
   "version": "3.10.14"
  }
 },
 "nbformat": 4,
 "nbformat_minor": 5
}
