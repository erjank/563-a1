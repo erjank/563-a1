{
  "cells": [
    {
      "cell_type": "markdown",
      "metadata": {
        "id": "view-in-github",
        "colab_type": "text"
      },
      "source": [
        "<a href=\"https://colab.research.google.com/github/erjank/563-a1/blob/main/feb24/mc-lj.ipynb\" target=\"_parent\"><img src=\"https://colab.research.google.com/assets/colab-badge.svg\" alt=\"Open In Colab\"/></a>"
      ]
    },
    {
      "cell_type": "code",
      "execution_count": 2,
      "metadata": {
        "id": "pLok1JfQosMa"
      },
      "outputs": [],
      "source": [
        "import numpy\n",
        "import matplotlib.pyplot as plt\n",
        "\n",
        "def pbc(d,L):\n",
        "  for i,x in enumerate(d):\n",
        "    if x > L/2:\n",
        "      d[i] = x-L\n",
        "    elif x <= -L/2:\n",
        "      d[i] = x+L\n",
        "  return d\n",
        "\n",
        "def distance(ri,rj,L):\n",
        "  d = pbc(rj-ri,L)\n",
        "  return numpy.linalg.norm(d)\n",
        "\n",
        "def lj(r,epsilon=1.,sigma=1.):\n",
        "  return 4*epsilon*((sigma/r)**12-(sigma/r)**6)\n",
        "\n",
        "class simulation():\n",
        "  def __init__(self,N=100,L=10,T=1.,maxD=0.1,maxSteps=10,debug=False,seed=2):\n",
        "    numpy.random.seed(seed)\n",
        "    self.N = N\n",
        "    self.L = L\n",
        "    self.T = T\n",
        "    self.maxD = maxD\n",
        "    self.accept = 0\n",
        "    self.reject = 0\n",
        "    self.rcut = 2.5\n",
        "    self.pos = numpy.zeros((N,3))\n",
        "    self.debug = debug\n",
        "    self.maxSteps = maxSteps\n",
        "    self.energies = numpy.zeros(maxSteps)\n",
        "    for i in range(self.N):\n",
        "      while True:\n",
        "        self.pos[i] = numpy.random.uniform(low=-L/2,high=L/2,size=3)\n",
        "        if self.energy(i,initializing=True)<=0.:\n",
        "          break\n",
        "    self.E = self.energy()\n",
        "    for i in range(self.maxSteps):\n",
        "      self.trial()\n",
        "      if self.debug:\n",
        "        print(\"{:03}:   {:.2f}\".format(i, self.E))\n",
        "      self.energies[i] = self.E\n",
        "\n",
        "  def energy(self,i=None,initializing=False):\n",
        "    E = 0\n",
        "    if i is not None and initializing:\n",
        "      pi = self.pos[i]\n",
        "      for j in range(i):\n",
        "        r = distance(pi,self.pos[j],self.L)\n",
        "        if r <= self.rcut:\n",
        "          E += lj(r)\n",
        "      return E\n",
        "    if i is None:\n",
        "      for i in range(self.N-1):\n",
        "        pi = self.pos[i]\n",
        "        for j in range(i+1,self.N):\n",
        "          r = distance(pi,self.pos[j],self.L) # speed up with numpy\n",
        "          if r <= self.rcut:\n",
        "            E += lj(r)\n",
        "      return E\n",
        "\n",
        "  def trial(self):\n",
        "    i = numpy.random.randint(self.N)\n",
        "    oldP = numpy.copy(self.pos[i])\n",
        "    oldE = self.E\n",
        "    oldEi = self.energy()\n",
        "    d = numpy.random.uniform(low=-self.maxD,high=self.maxD,size=3)\n",
        "    newP = pbc(oldP+d,self.L)\n",
        "    self.pos[i] = newP\n",
        "    newEi = self.energy()\n",
        "    dE = newEi - oldEi\n",
        "    if numpy.random.uniform() <= numpy.exp(-dE/self.T):\n",
        "      if self.debug:\n",
        "        print(\"accept\")\n",
        "      self.accept += 1\n",
        "      self.E += dE\n",
        "      return\n",
        "    else:\n",
        "      if self.debug:\n",
        "        print(\"reject\")\n",
        "      self.pos[i] = oldP\n",
        "      self.reject += 1\n",
        "      self.E = oldE\n",
        "      return"
      ]
    },
    {
      "cell_type": "code",
      "source": [
        "def autocorr1D(array):\n",
        "  ft = numpy.fft.rfft(array - numpy.average(array))\n",
        "  acorr = numpy.fft.irfft(ft * numpy.conjugate(ft)) / (len(array) * numpy.var(array))\n",
        "  dt = numpy.where(acorr<0)[0][0]\n",
        "  nsamples = len(array)//dt\n",
        "  acorr = acorr[dt:nsamples]\n",
        "  #return acorr[0 : len(acorr) // 2]\n",
        "  return nsamples, dt\n"
      ],
      "metadata": {
        "id": "S9I9Vwa0HCxo"
      },
      "execution_count": 23,
      "outputs": []
    },
    {
      "cell_type": "code",
      "execution_count": 4,
      "metadata": {
        "colab": {
          "base_uri": "https://localhost:8080/"
        },
        "id": "RC2dWqOZtpj6",
        "outputId": "feda9f25-033c-45e7-b8b0-c074a2fbb46c"
      },
      "outputs": [
        {
          "output_type": "stream",
          "name": "stdout",
          "text": [
            "3.9999999999999996\n",
            "-3.070694 +/- 0.131550\n"
          ]
        }
      ],
      "source": [
        "density = 0.5\n",
        "N = 32\n",
        "V = N/density\n",
        "L = V**(1/3)\n",
        "print(L)\n",
        "maxSteps = 10000\n",
        "s = simulation(N=N, L=L, maxSteps = maxSteps,debug=False,seed=23)\n",
        "print(\"{:02f} +/- {:02f}\".format(s.energies.mean()/N, s.energies.std()/N))"
      ]
    },
    {
      "cell_type": "code",
      "source": [
        "plt.plot(s.energies[0:]/N)\n",
        "plt.show()"
      ],
      "metadata": {
        "id": "KNhW_QabIMpS",
        "outputId": "8529af6e-8e5d-4c7d-8138-fac65c802418",
        "colab": {
          "base_uri": "https://localhost:8080/",
          "height": 430
        }
      },
      "execution_count": 26,
      "outputs": [
        {
          "output_type": "display_data",
          "data": {
            "text/plain": [
              "<Figure size 640x480 with 1 Axes>"
            ],
            "image/png": "[encoded data removed]"
          },
          "metadata": {}
        }
      ]
    },
    {
      "cell_type": "code",
      "source": [
        "for start in range(0,10000,100):\n",
        "  print(start, autocorr1D(s.energies[start:]))\n"
      ],
      "metadata": {
        "colab": {
          "base_uri": "https://localhost:8080/"
        },
        "id": "RRhU9EctIECz",
        "outputId": "925e992f-a038-45c0-f51c-a9689699e125"
      },
      "execution_count": 22,
      "outputs": [
        {
          "output_type": "stream",
          "name": "stdout",
          "text": [
            "0 11\n",
            "100 11\n",
            "200 11\n",
            "300 11\n",
            "400 11\n",
            "500 11\n",
            "600 11\n",
            "700 11\n",
            "800 10\n",
            "900 11\n",
            "1000 11\n",
            "1100 10\n",
            "1200 10\n",
            "1300 10\n",
            "1400 10\n",
            "1500 10\n",
            "1600 10\n",
            "1700 10\n",
            "1800 9\n",
            "1900 9\n",
            "2000 9\n",
            "2100 9\n",
            "2200 8\n",
            "2300 8\n",
            "2400 8\n",
            "2500 8\n",
            "2600 8\n",
            "2700 8\n",
            "2800 8\n",
            "2900 8\n",
            "3000 8\n",
            "3100 8\n",
            "3200 8\n",
            "3300 8\n",
            "3400 13\n",
            "3500 13\n",
            "3600 14\n",
            "3700 14\n",
            "3800 7\n",
            "3900 7\n",
            "4000 7\n",
            "4100 7\n",
            "4200 8\n",
            "4300 11\n",
            "4400 12\n",
            "4500 13\n",
            "4600 14\n",
            "4700 15\n",
            "4800 11\n",
            "4900 12\n",
            "5000 13\n",
            "5100 15\n",
            "5200 18\n",
            "5300 12\n",
            "5400 12\n",
            "5500 11\n",
            "5600 9\n",
            "5700 10\n",
            "5800 10\n",
            "5900 10\n",
            "6000 9\n",
            "6100 10\n",
            "6200 10\n",
            "6300 9\n",
            "6400 4\n",
            "6500 4\n",
            "6600 4\n",
            "6700 4\n",
            "6800 4\n",
            "6900 4\n",
            "7000 3\n",
            "7100 7\n",
            "7200 10\n",
            "7300 12\n",
            "7400 12\n",
            "7500 10\n",
            "7600 11\n",
            "7700 10\n",
            "7800 10\n",
            "7900 9\n",
            "8000 10\n",
            "8100 10\n",
            "8200 9\n",
            "8300 8\n",
            "8400 7\n",
            "8500 6\n",
            "8600 7\n",
            "8700 7\n",
            "8800 8\n",
            "8900 7\n",
            "9000 5\n",
            "9100 3\n",
            "9200 4\n",
            "9300 4\n",
            "9400 4\n",
            "9500 4\n",
            "9600 3\n",
            "9700 4\n",
            "9800 3\n",
            "9900 4\n"
          ]
        }
      ]
    },
    {
      "cell_type": "code",
      "source": [
        "real_average = s.energies[4700::342].mean()/N\n",
        "real_std = s.energies[4700::342].std()/N\n",
        "print(real_average, real_std)"
      ],
      "metadata": {
        "id": "ayPtFMCxO4RL",
        "outputId": "a7f0910a-f634-48e5-e933-2b1a9de768a1",
        "colab": {
          "base_uri": "https://localhost:8080/"
        }
      },
      "execution_count": 25,
      "outputs": [
        {
          "output_type": "stream",
          "name": "stdout",
          "text": [
            "-3.112697342955454 0.13976771052807296\n"
          ]
        }
      ]
    },
    {
      "cell_type": "code",
      "source": [
        "ns,dt = autocorr1D(s.energies[4700:])\n",
        "print(ns,dt)"
      ],
      "metadata": {
        "id": "qUo5OrnjPE3E",
        "outputId": "535857e6-c10e-4cf3-86a1-1babd87f0c68",
        "colab": {
          "base_uri": "https://localhost:8080/"
        }
      },
      "execution_count": 24,
      "outputs": [
        {
          "output_type": "stream",
          "name": "stdout",
          "text": [
            "15 342\n"
          ]
        }
      ]
    },
    {
      "cell_type": "code",
      "execution_count": 7,
      "metadata": {
        "colab": {
          "base_uri": "https://localhost:8080/",
          "height": 447
        },
        "id": "5rV01rK70Jl8",
        "outputId": "22cd0668-74ba-42a5-d283-eab5312f3079"
      },
      "outputs": [
        {
          "output_type": "display_data",
          "data": {
            "text/plain": [
              "<Figure size 640x480 with 1 Axes>"
            ],
            "image/png": "[encoded data removed]"
          },
          "metadata": {}
        },
        {
          "output_type": "stream",
          "name": "stdout",
          "text": [
            "N=32, AverageE: -3.09\n"
          ]
        }
      ],
      "source": [
        "start = 5000\n",
        "steps = 100\n",
        "plt.plot(range(start,start+steps),s.energies[start:start+steps]/N)\n",
        "plt.show()\n",
        "print(\"N={}, AverageE: {:.2f}\".format(N,s.energies[maxSteps//2:].mean()/N))\n",
        "# per particle around -4.25 with  N=32, density .7, L=3.57, 10k maxSteps\n",
        "# per particle around -3.91 with  N=20, density .7, L=3.057, 10k maxSteps\n",
        "# per particle around  with  N=28, density .7, L=3.057, 10k maxSteps\n"
      ]
    },
    {
      "cell_type": "code",
      "execution_count": null,
      "metadata": {
        "colab": {
          "base_uri": "https://localhost:8080/"
        },
        "id": "S2fqpuxKZdQD",
        "outputId": "2000b32c-84ab-49f8-bcc4-28c2c6549755"
      },
      "outputs": [
        {
          "name": "stdout",
          "output_type": "stream",
          "text": [
            "N=20, AverageE: -2.98\n",
            "N=25, AverageE: -3.12\n",
            "N=30, AverageE: -3.10\n",
            "N=35, AverageE: -3.08\n",
            "N=40, AverageE: -3.22\n",
            "N=45, AverageE: -3.15\n",
            "N=50, AverageE: -3.26\n"
          ]
        }
      ],
      "source": [
        "for N in range(20,51,5):\n",
        "  density = 0.5\n",
        "  V = N/density\n",
        "  L = V**(1/3)\n",
        "  maxSteps = 10000\n",
        "  s = simulation(N=N, L=L, maxSteps = maxSteps,debug=False)\n",
        "  print(\"N={}, AverageE: {:.2f}\".format(N,s.energies[maxSteps//2:].mean()/N))"
      ]
    },
    {
      "cell_type": "code",
      "execution_count": null,
      "metadata": {
        "colab": {
          "base_uri": "https://localhost:8080/",
          "height": 419
        },
        "id": "CGzvH_yB5zFV",
        "outputId": "dcef857c-b15c-4e55-b15c-59630cc7f140"
      },
      "outputs": [
        {
          "name": "stdout",
          "output_type": "stream",
          "text": [
            "N=20, AverageE: -3.91\n",
            "N=25, AverageE: -4.13\n",
            "N=30, AverageE: -4.22\n",
            "N=35, AverageE: -4.35\n",
            "N=40, AverageE: -4.35\n",
            "N=45, AverageE: -4.47\n",
            "N=50, AverageE: -4.39\n"
          ]
        }
      ],
      "source": [
        "import time\n",
        "for N in range(20,51,5):\n",
        "    density = 0.7\n",
        "    V = N/density\n",
        "    L = V**(1/3)\n",
        "    maxSteps = 10000\n",
        "    t1 = time.perf_counter()\n",
        "    s = simulation(N=N, L=L, maxSteps = maxSteps,debug=False)\n",
        "    t2 = time.perf_counter()\n",
        "    print(\"\\nN=\",N,\"; {:.2f} seconds/sim\".format(t2-t1))\n",
        "    print(\"N={}, AverageE: {:.2f}\".format(N,s.energies[maxSteps//2:].mean()/N))"
      ]
    }
  ],
  "metadata": {
    "colab": {
      "provenance": [],
      "include_colab_link": true
    },
    "kernelspec": {
      "display_name": "Python 3 (ipykernel)",
      "language": "python",
      "name": "python3"
    },
    "language_info": {
      "codemirror_mode": {
        "name": "ipython",
        "version": 3
      },
      "file_extension": ".py",
      "mimetype": "text/x-python",
      "name": "python",
      "nbconvert_exporter": "python",
      "pygments_lexer": "ipython3",
      "version": "3.11.0"
    }
  },
  "nbformat": 4,
  "nbformat_minor": 0
}