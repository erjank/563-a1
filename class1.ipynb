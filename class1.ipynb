{
  "nbformat": 4,
  "nbformat_minor": 0,
  "metadata": {
    "colab": {
      "provenance": [],
      "authorship_tag": "ABX9TyOXe4A5iCl8C+xvERqv1Vbk",
      "include_colab_link": true
    },
    "kernelspec": {
      "name": "python3",
      "display_name": "Python 3"
    },
    "language_info": {
      "name": "python"
    }
  },
  "cells": [
    {
      "cell_type": "markdown",
      "metadata": {
        "id": "view-in-github",
        "colab_type": "text"
      },
      "source": [
        "<a href=\"https://colab.research.google.com/github/erjank/563-a1/blob/main/class1.ipynb\" target=\"_parent\"><img src=\"https://colab.research.google.com/assets/colab-badge.svg\" alt=\"Open In Colab\"/></a>"
      ]
    },
    {
      "cell_type": "code",
      "execution_count": null,
      "metadata": {
        "colab": {
          "base_uri": "https://localhost:8080/"
        },
        "id": "8nVu_YiEtY_P",
        "outputId": "0d015232-3623-456c-e161-1ebc66c66f4b"
      },
      "outputs": [
        {
          "output_type": "stream",
          "name": "stdout",
          "text": [
            "hello class!\n"
          ]
        }
      ],
      "source": [
        "# I'm trying to figure out how many ways\n",
        "# we can fit 20 particles in a volume of 4-billion by 4-billion\n",
        "print(\"hello class!\")\n",
        "a = 20\n",
        "b = [1,23,\"string!\"] #shift+return runs the cell!"
      ]
    },
    {
      "cell_type": "code",
      "source": [
        "print(b)"
      ],
      "metadata": {
        "colab": {
          "base_uri": "https://localhost:8080/"
        },
        "id": "aHS8wx6FuBI0",
        "outputId": "5335d1ef-fa37-47be-8fa6-35ace0175cc5"
      },
      "execution_count": null,
      "outputs": [
        {
          "output_type": "stream",
          "name": "stdout",
          "text": [
            "[1, 23, 'string!']\n"
          ]
        }
      ]
    },
    {
      "cell_type": "code",
      "source": [
        "# OK, now I'm really goign tyo work on the problem\n",
        "places_can_sit = (4*10**9)**2"
      ],
      "metadata": {
        "id": "EhDR7myTuMxn"
      },
      "execution_count": 1,
      "outputs": []
    },
    {
      "cell_type": "code",
      "source": [
        "print(places_can_sit**20)"
      ],
      "metadata": {
        "id": "IIfWQ4OZxFao",
        "outputId": "4bc629eb-2dfc-4d6b-8cff-c4ecb5935883",
        "colab": {
          "base_uri": "https://localhost:8080/"
        }
      },
      "execution_count": 2,
      "outputs": [
        {
          "output_type": "stream",
          "name": "stdout",
          "text": [
            "1208925819614629174706176000000000000000000000000000000000000000000000000000000000000000000000000000000000000000000000000000000000000000000000000000000000000000000000000000000000000000000000000000000000000000000000000000000000000000000000000000000000000000000000000000000000000000000000000000000000000000000000000000000000000000000000000000000000000000000000000000000000000000000000000\n"
          ]
        }
      ]
    },
    {
      "cell_type": "code",
      "source": [
        "# how many years will it take to evaluate these configs\n",
        "# with 2.67 billion evaluations per second ?\n",
        "\n",
        "n = places_can_sit**20\n",
        "\n",
        "n//(267*10**7)//3600//24//365//(10**367) #seconds\n"
      ],
      "metadata": {
        "id": "_ucmfKmhyFU2",
        "outputId": "4a4a306a-8a64-48a4-cc52-d055038c1172",
        "colab": {
          "base_uri": "https://localhost:8080/"
        }
      },
      "execution_count": 24,
      "outputs": [
        {
          "output_type": "execute_result",
          "data": {
            "text/plain": [
              "1"
            ]
          },
          "metadata": {},
          "execution_count": 24
        }
      ]
    },
    {
      "cell_type": "code",
      "source": [],
      "metadata": {
        "id": "lJMcyZlxz72s"
      },
      "execution_count": null,
      "outputs": []
    }
  ]
}