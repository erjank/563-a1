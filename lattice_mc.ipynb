{
  "nbformat": 4,
  "nbformat_minor": 0,
  "metadata": {
    "colab": {
      "provenance": [],
      "authorship_tag": "ABX9TyPTk9j6aEvxcKLE/XnkdO/Q",
      "include_colab_link": true
    },
    "kernelspec": {
      "name": "python3",
      "display_name": "Python 3"
    },
    "language_info": {
      "name": "python"
    }
  },
  "cells": [
    {
      "cell_type": "markdown",
      "metadata": {
        "id": "view-in-github",
        "colab_type": "text"
      },
      "source": [
        "<a href=\"https://colab.research.google.com/github/erjank/563-a1/blob/main/lattice_mc.ipynb\" target=\"_parent\"><img src=\"https://colab.research.google.com/assets/colab-badge.svg\" alt=\"Open In Colab\"/></a>"
      ]
    },
    {
      "cell_type": "code",
      "execution_count": 28,
      "metadata": {
        "id": "LQI7M0zcr8gL"
      },
      "outputs": [],
      "source": [
        "#HW4\n",
        "import numpy\n",
        "directions = [numpy.array((1,0)),numpy.array((0,-1)),numpy.array((-1,0)),numpy.array((0,1))]\n",
        "def pbc(site,L): #The convention here is to have positive lattice indices\n",
        "  for i,s in enumerate(site):\n",
        "    if s >= L:\n",
        "      site[i] = s - L\n",
        "    elif s < 0:\n",
        "      site[i] = s + L\n",
        "  return site\n",
        "\n",
        "class grid():\n",
        "  def __init__(self,N=5,L=4,T=1.0):\n",
        "    self.L = L\n",
        "    self.N = N\n",
        "    self.epsilon = -1\n",
        "    self.kT = T\n",
        "    self.particles = []\n",
        "    for i in range(self.N):\n",
        "      self.particles.append(particle())\n",
        "      while True:\n",
        "        rands = self.random_site()\n",
        "        if not self.occupied(rands):\n",
        "          self.particles[-1].location = rands\n",
        "          break\n",
        "    self.E = self.energy()\n",
        "\n",
        "  def occupied(self,site):\n",
        "    for p in self.particles:\n",
        "      if numpy.array_equal(p.location,site):\n",
        "        return True\n",
        "    return False\n",
        "\n",
        "  def random_site(self):\n",
        "    return numpy.array((numpy.random.randint(self.L),numpy.random.randint(self.L)))\n",
        "\n",
        "  def distance(self,site1,site2):\n",
        "    return numpy.linalg.norm(site1-site2)\n",
        "\n",
        "  def energy(self):\n",
        "    energy = 0\n",
        "    for p in self.particles:\n",
        "      neighbors = p.get_neighbors(self.L)\n",
        "      for n in neighbors:\n",
        "        if self.occupied(n):\n",
        "          energy += self.epsilon\n",
        "    return energy/2\n",
        "\n",
        "  def __repr__(self):\n",
        "    m = numpy.zeros((self.L, self.L))\n",
        "    for p in self.particles:\n",
        "      m[tuple(p.location)] = 1\n",
        "    return str(m)\n",
        "\n",
        "class particle():\n",
        "  def __init__(self):\n",
        "    self.location = numpy.array((-1,-1)) #negative index means unplaced\n",
        "\n",
        "  def get_neighbors(self,L):\n",
        "    neighbors = []\n",
        "    for d in directions:\n",
        "      neighbors.append( pbc(d+self.location, L))\n",
        "    return neighbors\n",
        "\n",
        "class simulation():\n",
        "  def __init__(self,N=5,L=3,T=1.,steps = 1000,seed=2):\n",
        "    numpy.random.seed(seed)\n",
        "    self.grid = grid(N,L,T)\n",
        "    self.accepted = 0\n",
        "    self.rejected = 0\n",
        "    self.energies = numpy.zeros(steps)\n",
        "    for i in range(steps):\n",
        "      self.trial_move()\n",
        "      self.energies[i] = self.grid.E/N\n",
        "      if i%1000 == 0:\n",
        "        print(i)\n",
        "        print(self.grid.E)\n",
        "        print(self.grid)\n",
        "\n",
        "  def trial_move(self):\n",
        "    p = numpy.random.choice(self.grid.particles)\n",
        "    old = p.location\n",
        "    oldE = self.grid.E\n",
        "    trial = self.grid.random_site()\n",
        "    if not self.grid.occupied(trial):\n",
        "      p.location = trial\n",
        "      E = self.grid.energy()\n",
        "      dE = E - oldE\n",
        "      if numpy.random.rand() < numpy.exp(-dE/self.grid.kT):\n",
        "        self.grid.E = E\n",
        "        self.accepted += 1\n",
        "      else:\n",
        "        p.location = old\n",
        "        self.grid.E = oldE\n",
        "        self.rejected += 1\n"
      ]
    },
    {
      "cell_type": "code",
      "source": [
        "import matplotlib.pyplot as plt\n",
        "s = simulation(N=20,L=7,T=0.5,steps=10000, seed = 2)\n",
        "plt.plot(s.energies)"
      ],
      "metadata": {
        "id": "MiEA6kdOwdJq",
        "colab": {
          "base_uri": "https://localhost:8080/",
          "height": 1000
        },
        "outputId": "3c8097ae-b4db-40cc-ad3f-5b51ff2a6525"
      },
      "execution_count": 33,
      "outputs": [
        {
          "output_type": "stream",
          "name": "stdout",
          "text": [
            "0\n",
            "-15.0\n",
            "[[0. 0. 1. 0. 1. 1. 1.]\n",
            " [0. 0. 0. 0. 0. 0. 1.]\n",
            " [1. 1. 0. 1. 1. 0. 0.]\n",
            " [1. 1. 1. 0. 0. 1. 1.]\n",
            " [0. 0. 1. 0. 1. 0. 1.]\n",
            " [0. 0. 0. 1. 0. 0. 0.]\n",
            " [0. 0. 0. 0. 1. 0. 1.]]\n",
            "1000\n",
            "-27.0\n",
            "[[1. 0. 0. 0. 0. 1. 1.]\n",
            " [1. 0. 0. 1. 1. 1. 1.]\n",
            " [0. 0. 0. 1. 1. 1. 0.]\n",
            " [0. 0. 0. 0. 0. 0. 0.]\n",
            " [0. 0. 0. 0. 1. 1. 1.]\n",
            " [1. 0. 0. 0. 1. 1. 1.]\n",
            " [1. 0. 0. 0. 0. 0. 1.]]\n",
            "2000\n",
            "-27.0\n",
            "[[1. 0. 0. 0. 0. 1. 1.]\n",
            " [1. 1. 1. 0. 0. 1. 1.]\n",
            " [1. 1. 0. 0. 1. 1. 1.]\n",
            " [1. 1. 1. 0. 0. 1. 1.]\n",
            " [0. 1. 0. 0. 0. 0. 0.]\n",
            " [0. 0. 0. 0. 0. 0. 0.]\n",
            " [1. 0. 0. 0. 0. 0. 0.]]\n",
            "3000\n",
            "-26.0\n",
            "[[0. 0. 1. 1. 1. 1. 1.]\n",
            " [1. 0. 0. 1. 1. 1. 1.]\n",
            " [1. 0. 0. 0. 0. 1. 1.]\n",
            " [1. 1. 0. 0. 0. 0. 0.]\n",
            " [0. 0. 0. 0. 0. 0. 0.]\n",
            " [0. 0. 0. 1. 0. 0. 0.]\n",
            " [0. 0. 1. 1. 0. 1. 1.]]\n",
            "4000\n",
            "-29.0\n",
            "[[1. 0. 1. 1. 1. 1. 1.]\n",
            " [0. 0. 0. 1. 1. 1. 1.]\n",
            " [0. 0. 0. 0. 0. 0. 0.]\n",
            " [0. 0. 0. 0. 0. 0. 0.]\n",
            " [0. 0. 0. 0. 0. 0. 0.]\n",
            " [1. 0. 0. 1. 1. 0. 0.]\n",
            " [1. 1. 1. 1. 1. 1. 1.]]\n",
            "5000\n",
            "-30.0\n",
            "[[0. 0. 0. 0. 0. 0. 0.]\n",
            " [0. 1. 0. 0. 0. 0. 0.]\n",
            " [1. 1. 0. 1. 1. 1. 1.]\n",
            " [1. 1. 1. 1. 1. 1. 1.]\n",
            " [1. 1. 1. 1. 0. 1. 1.]\n",
            " [0. 0. 0. 0. 0. 0. 0.]\n",
            " [0. 0. 0. 0. 0. 0. 0.]]\n",
            "6000\n",
            "-29.0\n",
            "[[0. 0. 0. 0. 0. 0. 0.]\n",
            " [0. 0. 0. 0. 0. 0. 0.]\n",
            " [1. 0. 0. 0. 0. 0. 1.]\n",
            " [1. 1. 1. 0. 1. 1. 1.]\n",
            " [1. 1. 1. 1. 1. 1. 1.]\n",
            " [1. 1. 0. 1. 1. 1. 0.]\n",
            " [0. 0. 0. 0. 0. 0. 0.]]\n",
            "7000\n",
            "-28.0\n",
            "[[0. 0. 0. 0. 0. 0. 0.]\n",
            " [0. 0. 0. 0. 0. 0. 0.]\n",
            " [1. 0. 1. 1. 1. 1. 1.]\n",
            " [0. 0. 1. 1. 1. 1. 0.]\n",
            " [0. 0. 1. 1. 1. 1. 1.]\n",
            " [0. 0. 1. 1. 1. 1. 0.]\n",
            " [0. 0. 0. 0. 1. 0. 0.]]\n",
            "8000\n",
            "-28.0\n",
            "[[0. 0. 0. 1. 1. 1. 1.]\n",
            " [1. 0. 0. 0. 0. 0. 1.]\n",
            " [1. 0. 0. 0. 0. 1. 1.]\n",
            " [1. 0. 0. 0. 1. 1. 1.]\n",
            " [0. 0. 0. 0. 1. 1. 1.]\n",
            " [0. 0. 0. 0. 1. 1. 0.]\n",
            " [0. 0. 0. 0. 1. 1. 0.]]\n",
            "9000\n",
            "-28.0\n",
            "[[1. 1. 1. 1. 0. 0. 1.]\n",
            " [1. 1. 1. 1. 1. 1. 1.]\n",
            " [1. 0. 0. 0. 0. 1. 1.]\n",
            " [1. 0. 0. 0. 0. 0. 1.]\n",
            " [0. 0. 0. 0. 0. 0. 0.]\n",
            " [0. 0. 0. 0. 0. 0. 0.]\n",
            " [1. 1. 0. 1. 0. 0. 0.]]\n"
          ]
        },
        {
          "output_type": "execute_result",
          "data": {
            "text/plain": [
              "[<matplotlib.lines.Line2D at 0x79e95b574d10>]"
            ]
          },
          "metadata": {},
          "execution_count": 33
        },
        {
          "output_type": "display_data",
          "data": {
            "text/plain": [
              "<Figure size 640x480 with 1 Axes>"
            ],
            "image/png": "[encoded data removed]"
          },
          "metadata": {}
        }
      ]
    },
    {
      "cell_type": "code",
      "source": [],
      "metadata": {
        "id": "_A6z9Cx2znby"
      },
      "execution_count": null,
      "outputs": []
    }
  ]
}