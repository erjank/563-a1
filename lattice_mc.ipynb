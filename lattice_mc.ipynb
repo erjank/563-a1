{
  "nbformat": 4,
  "nbformat_minor": 0,
  "metadata": {
    "colab": {
      "provenance": [],
      "authorship_tag": "ABX9TyPBXaQukXiuuNBtpowc5ACu",
      "include_colab_link": true
    },
    "kernelspec": {
      "name": "python3",
      "display_name": "Python 3"
    },
    "language_info": {
      "name": "python"
    }
  },
  "cells": [
    {
      "cell_type": "markdown",
      "metadata": {
        "id": "view-in-github",
        "colab_type": "text"
      },
      "source": [
        "<a href=\"https://colab.research.google.com/github/erjank/563-a1/blob/main/lattice_mc.ipynb\" target=\"_parent\"><img src=\"https://colab.research.google.com/assets/colab-badge.svg\" alt=\"Open In Colab\"/></a>"
      ]
    },
    {
      "cell_type": "code",
      "execution_count": 41,
      "metadata": {
        "id": "LQI7M0zcr8gL"
      },
      "outputs": [],
      "source": [
        "#Goals:\n",
        "#implement square-lattice MC\n",
        "# particles to sit on a grid\n",
        "# calculate the energy of your grid\n",
        "# trial moves that obey detailed balance\n",
        "# have periodic boundary conditions\n",
        "\n",
        "import numpy\n",
        "\n",
        "#these four directions define up, right\n",
        "directions = [numpy.array((1,0)),numpy.array((0,-1)),numpy.array((-1,0)),numpy.array((0,1))]\n",
        "\n",
        "def pbc(site,L):\n",
        "  for i,s in enumerate(site):\n",
        "    if s >= L:\n",
        "      site[i] = s - L\n",
        "    elif s < 0:\n",
        "      site[i] = s + L\n",
        "\n",
        "# Grid\n",
        "class grid():\n",
        "  #needs a size, and have particles that sit in it\n",
        "  #oooh, a helper function that gives me neighbors of a site\n",
        "  # will be helpful\n",
        "  def __init__(self,L,N):\n",
        "    self.L = L\n",
        "    self.N = N\n",
        "    #need to put N particles into the system\n",
        "    self.particles = []\n",
        "    for i in range(self.N):\n",
        "      self.particles.append(particle())\n",
        "      self.particles[-1].location = numpy.array((10,10))\n",
        "\n",
        "# Particles\n",
        "class particle():\n",
        "  #needs a location\n",
        "  def __init__(self):\n",
        "    self.location = numpy.array((0,0))\n",
        "\n",
        "  def get_neighbors(self):\n",
        "    neighbors = []\n",
        "    for d in directions:\n",
        "      neighbors.append(d+self.location)\n",
        "    return neighbors\n",
        "\n",
        "# Calculate distances\n",
        "\n",
        "\n",
        "# calc energy of a configuration (microstate)\n"
      ]
    },
    {
      "cell_type": "code",
      "source": [
        "#tests\n",
        "sample_system = grid(10,20)\n",
        "print(sample_system.N)\n",
        "print(sample_system.particles[0].location)\n",
        "p = particle()\n",
        "print(type(p))\n",
        "print(type(sample_system.particles[-1]))\n",
        "sample_system.particles[0].get_neighbors()"
      ],
      "metadata": {
        "id": "6-kbEfxBv53K",
        "colab": {
          "base_uri": "https://localhost:8080/"
        },
        "outputId": "744cdf33-55e8-420b-abf4-f4a5041055e8"
      },
      "execution_count": 43,
      "outputs": [
        {
          "output_type": "stream",
          "name": "stdout",
          "text": [
            "20\n",
            "[10 10]\n",
            "<class '__main__.particle'>\n",
            "<class '__main__.particle'>\n",
            "[11 10]\n",
            "[10  9]\n",
            "[ 9 10]\n",
            "[10 11]\n"
          ]
        }
      ]
    },
    {
      "cell_type": "code",
      "source": [
        "type(sample_system.sites[0,1])"
      ],
      "metadata": {
        "id": "MiEA6kdOwdJq",
        "colab": {
          "base_uri": "https://localhost:8080/"
        },
        "outputId": "8954d95e-d353-4d50-f919-36934f8b5629"
      },
      "execution_count": 9,
      "outputs": [
        {
          "output_type": "execute_result",
          "data": {
            "text/plain": [
              "numpy.float64"
            ]
          },
          "metadata": {},
          "execution_count": 9
        }
      ]
    },
    {
      "cell_type": "code",
      "source": [],
      "metadata": {
        "id": "_A6z9Cx2znby"
      },
      "execution_count": null,
      "outputs": []
    }
  ]
}